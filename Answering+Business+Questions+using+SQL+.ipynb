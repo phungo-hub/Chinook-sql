{
 "cells": [
  {
   "cell_type": "code",
   "execution_count": 1,
   "metadata": {
    "collapsed": false
   },
   "outputs": [
    {
     "data": {
      "text/plain": [
       "'Connected: None@chinook.db'"
      ]
     },
     "execution_count": 1,
     "metadata": {},
     "output_type": "execute_result"
    }
   ],
   "source": [
    "%%capture\n",
    "%load_ext sql\n",
    "%sql sqlite:///chinook.db"
   ]
  },
  {
   "cell_type": "code",
   "execution_count": 2,
   "metadata": {
    "collapsed": false
   },
   "outputs": [
    {
     "name": "stdout",
     "output_type": "stream",
     "text": [
      "Done.\n"
     ]
    },
    {
     "data": {
      "text/html": [
       "<table>\n",
       "    <tr>\n",
       "        <th>name</th>\n",
       "        <th>type</th>\n",
       "    </tr>\n",
       "    <tr>\n",
       "        <td>album</td>\n",
       "        <td>table</td>\n",
       "    </tr>\n",
       "    <tr>\n",
       "        <td>artist</td>\n",
       "        <td>table</td>\n",
       "    </tr>\n",
       "    <tr>\n",
       "        <td>customer</td>\n",
       "        <td>table</td>\n",
       "    </tr>\n",
       "    <tr>\n",
       "        <td>employee</td>\n",
       "        <td>table</td>\n",
       "    </tr>\n",
       "    <tr>\n",
       "        <td>genre</td>\n",
       "        <td>table</td>\n",
       "    </tr>\n",
       "    <tr>\n",
       "        <td>invoice</td>\n",
       "        <td>table</td>\n",
       "    </tr>\n",
       "    <tr>\n",
       "        <td>invoice_line</td>\n",
       "        <td>table</td>\n",
       "    </tr>\n",
       "    <tr>\n",
       "        <td>media_type</td>\n",
       "        <td>table</td>\n",
       "    </tr>\n",
       "    <tr>\n",
       "        <td>playlist</td>\n",
       "        <td>table</td>\n",
       "    </tr>\n",
       "    <tr>\n",
       "        <td>playlist_track</td>\n",
       "        <td>table</td>\n",
       "    </tr>\n",
       "    <tr>\n",
       "        <td>track</td>\n",
       "        <td>table</td>\n",
       "    </tr>\n",
       "</table>"
      ],
      "text/plain": [
       "[('album', 'table'),\n",
       " ('artist', 'table'),\n",
       " ('customer', 'table'),\n",
       " ('employee', 'table'),\n",
       " ('genre', 'table'),\n",
       " ('invoice', 'table'),\n",
       " ('invoice_line', 'table'),\n",
       " ('media_type', 'table'),\n",
       " ('playlist', 'table'),\n",
       " ('playlist_track', 'table'),\n",
       " ('track', 'table')]"
      ]
     },
     "execution_count": 2,
     "metadata": {},
     "output_type": "execute_result"
    }
   ],
   "source": [
    "%%sql \n",
    "SELECT name,\n",
    "       type\n",
    "FROM sqlite_master\n",
    "WHERE type IN (\"table\", \"view\")"
   ]
  },
  {
   "cell_type": "code",
   "execution_count": 3,
   "metadata": {
    "collapsed": false
   },
   "outputs": [
    {
     "name": "stdout",
     "output_type": "stream",
     "text": [
      "Done.\n"
     ]
    },
    {
     "data": {
      "text/html": [
       "<table>\n",
       "    <tr>\n",
       "        <th>track_id</th>\n",
       "        <th>name</th>\n",
       "        <th>album_id</th>\n",
       "        <th>media_type_id</th>\n",
       "        <th>genre_id</th>\n",
       "        <th>composer</th>\n",
       "        <th>milliseconds</th>\n",
       "        <th>bytes</th>\n",
       "        <th>unit_price</th>\n",
       "    </tr>\n",
       "    <tr>\n",
       "        <td>1</td>\n",
       "        <td>For Those About To Rock (We Salute You)</td>\n",
       "        <td>1</td>\n",
       "        <td>1</td>\n",
       "        <td>1</td>\n",
       "        <td>Angus Young, Malcolm Young, Brian Johnson</td>\n",
       "        <td>343719</td>\n",
       "        <td>11170334</td>\n",
       "        <td>0.99</td>\n",
       "    </tr>\n",
       "    <tr>\n",
       "        <td>2</td>\n",
       "        <td>Balls to the Wall</td>\n",
       "        <td>2</td>\n",
       "        <td>2</td>\n",
       "        <td>1</td>\n",
       "        <td>None</td>\n",
       "        <td>342562</td>\n",
       "        <td>5510424</td>\n",
       "        <td>0.99</td>\n",
       "    </tr>\n",
       "    <tr>\n",
       "        <td>3</td>\n",
       "        <td>Fast As a Shark</td>\n",
       "        <td>3</td>\n",
       "        <td>2</td>\n",
       "        <td>1</td>\n",
       "        <td>F. Baltes, S. Kaufman, U. Dirkscneider &amp; W. Hoffman</td>\n",
       "        <td>230619</td>\n",
       "        <td>3990994</td>\n",
       "        <td>0.99</td>\n",
       "    </tr>\n",
       "    <tr>\n",
       "        <td>4</td>\n",
       "        <td>Restless and Wild</td>\n",
       "        <td>3</td>\n",
       "        <td>2</td>\n",
       "        <td>1</td>\n",
       "        <td>F. Baltes, R.A. Smith-Diesel, S. Kaufman, U. Dirkscneider &amp; W. Hoffman</td>\n",
       "        <td>252051</td>\n",
       "        <td>4331779</td>\n",
       "        <td>0.99</td>\n",
       "    </tr>\n",
       "    <tr>\n",
       "        <td>5</td>\n",
       "        <td>Princess of the Dawn</td>\n",
       "        <td>3</td>\n",
       "        <td>2</td>\n",
       "        <td>1</td>\n",
       "        <td>Deaffy &amp; R.A. Smith-Diesel</td>\n",
       "        <td>375418</td>\n",
       "        <td>6290521</td>\n",
       "        <td>0.99</td>\n",
       "    </tr>\n",
       "</table>"
      ],
      "text/plain": [
       "[(1, 'For Those About To Rock (We Salute You)', 1, 1, 1, 'Angus Young, Malcolm Young, Brian Johnson', 343719, 11170334, 0.99),\n",
       " (2, 'Balls to the Wall', 2, 2, 1, None, 342562, 5510424, 0.99),\n",
       " (3, 'Fast As a Shark', 3, 2, 1, 'F. Baltes, S. Kaufman, U. Dirkscneider & W. Hoffman', 230619, 3990994, 0.99),\n",
       " (4, 'Restless and Wild', 3, 2, 1, 'F. Baltes, R.A. Smith-Diesel, S. Kaufman, U. Dirkscneider & W. Hoffman', 252051, 4331779, 0.99),\n",
       " (5, 'Princess of the Dawn', 3, 2, 1, 'Deaffy & R.A. Smith-Diesel', 375418, 6290521, 0.99)]"
      ]
     },
     "execution_count": 3,
     "metadata": {},
     "output_type": "execute_result"
    }
   ],
   "source": [
    "%%sql \n",
    "SELECT * FROM track\n",
    "LIMIT 5;"
   ]
  },
  {
   "cell_type": "markdown",
   "metadata": {},
   "source": [
    "# Selecting Albums to Purchase"
   ]
  },
  {
   "cell_type": "markdown",
   "metadata": {},
   "source": [
    "The Chinook record store has just signed a deal with a new record label, and you've been tasked with selecting the first three albums that will be added to the store, from a list of four. All four albums are by artists that don't have any tracks in the store right now - we have the artist names, and the genre of music they produce:\n",
    "\n",
    "<table style=\"width:20%\">\n",
    "<tr>\n",
    "<th>Artist Name</th>\t<th>Genre</th>\n",
    "</tr>\n",
    "\n",
    "<tr>\n",
    "<td>Regal</td>\t\n",
    "<td>Hip-Hop</td>\n",
    "</tr>\n",
    "<tr>\n",
    "<td>Red Tone</td>\t<td>Punk</td>\n",
    "</tr>\n",
    "<tr>\n",
    "<td>Meteor and the Girls</td>\t<td>Pop</td>\n",
    "</tr>\n",
    "<tr>\n",
    "<td>Slim Jim Bites</td>\t<td>Blues</td>\n",
    "</table>\n",
    "\n",
    "The record label specializes in artists from the USA, and they have given Chinook some money to advertise the new albums in the USA, so we're interested in finding out which genres sell the best in the USA."
   ]
  },
  {
   "cell_type": "code",
   "execution_count": 4,
   "metadata": {
    "collapsed": false
   },
   "outputs": [
    {
     "name": "stdout",
     "output_type": "stream",
     "text": [
      "Done.\n"
     ]
    },
    {
     "data": {
      "text/html": [
       "<table>\n",
       "    <tr>\n",
       "        <th>genre_name</th>\n",
       "        <th>tracks_sold_usa</th>\n",
       "        <th>percentages</th>\n",
       "    </tr>\n",
       "    <tr>\n",
       "        <td>Rock</td>\n",
       "        <td>561</td>\n",
       "        <td>53.38</td>\n",
       "    </tr>\n",
       "    <tr>\n",
       "        <td>Alternative &amp; Punk</td>\n",
       "        <td>130</td>\n",
       "        <td>12.37</td>\n",
       "    </tr>\n",
       "    <tr>\n",
       "        <td>Metal</td>\n",
       "        <td>124</td>\n",
       "        <td>11.8</td>\n",
       "    </tr>\n",
       "    <tr>\n",
       "        <td>R&amp;B/Soul</td>\n",
       "        <td>53</td>\n",
       "        <td>5.04</td>\n",
       "    </tr>\n",
       "    <tr>\n",
       "        <td>Blues</td>\n",
       "        <td>36</td>\n",
       "        <td>3.43</td>\n",
       "    </tr>\n",
       "    <tr>\n",
       "        <td>Alternative</td>\n",
       "        <td>35</td>\n",
       "        <td>3.33</td>\n",
       "    </tr>\n",
       "    <tr>\n",
       "        <td>Latin</td>\n",
       "        <td>22</td>\n",
       "        <td>2.09</td>\n",
       "    </tr>\n",
       "    <tr>\n",
       "        <td>Pop</td>\n",
       "        <td>22</td>\n",
       "        <td>2.09</td>\n",
       "    </tr>\n",
       "    <tr>\n",
       "        <td>Hip Hop/Rap</td>\n",
       "        <td>20</td>\n",
       "        <td>1.9</td>\n",
       "    </tr>\n",
       "    <tr>\n",
       "        <td>Jazz</td>\n",
       "        <td>14</td>\n",
       "        <td>1.33</td>\n",
       "    </tr>\n",
       "    <tr>\n",
       "        <td>Easy Listening</td>\n",
       "        <td>13</td>\n",
       "        <td>1.24</td>\n",
       "    </tr>\n",
       "    <tr>\n",
       "        <td>Reggae</td>\n",
       "        <td>6</td>\n",
       "        <td>0.57</td>\n",
       "    </tr>\n",
       "    <tr>\n",
       "        <td>Electronica/Dance</td>\n",
       "        <td>5</td>\n",
       "        <td>0.48</td>\n",
       "    </tr>\n",
       "    <tr>\n",
       "        <td>Classical</td>\n",
       "        <td>4</td>\n",
       "        <td>0.38</td>\n",
       "    </tr>\n",
       "    <tr>\n",
       "        <td>Heavy Metal</td>\n",
       "        <td>3</td>\n",
       "        <td>0.29</td>\n",
       "    </tr>\n",
       "    <tr>\n",
       "        <td>Soundtrack</td>\n",
       "        <td>2</td>\n",
       "        <td>0.19</td>\n",
       "    </tr>\n",
       "    <tr>\n",
       "        <td>TV Shows</td>\n",
       "        <td>1</td>\n",
       "        <td>0.1</td>\n",
       "    </tr>\n",
       "</table>"
      ],
      "text/plain": [
       "[('Rock', 561, 53.38),\n",
       " ('Alternative & Punk', 130, 12.37),\n",
       " ('Metal', 124, 11.8),\n",
       " ('R&B/Soul', 53, 5.04),\n",
       " ('Blues', 36, 3.43),\n",
       " ('Alternative', 35, 3.33),\n",
       " ('Latin', 22, 2.09),\n",
       " ('Pop', 22, 2.09),\n",
       " ('Hip Hop/Rap', 20, 1.9),\n",
       " ('Jazz', 14, 1.33),\n",
       " ('Easy Listening', 13, 1.24),\n",
       " ('Reggae', 6, 0.57),\n",
       " ('Electronica/Dance', 5, 0.48),\n",
       " ('Classical', 4, 0.38),\n",
       " ('Heavy Metal', 3, 0.29),\n",
       " ('Soundtrack', 2, 0.19),\n",
       " ('TV Shows', 1, 0.1)]"
      ]
     },
     "execution_count": 4,
     "metadata": {},
     "output_type": "execute_result"
    }
   ],
   "source": [
    "%%sql\n",
    "WITH customer_in_usa AS (\n",
    "    SELECT il.*\n",
    "    FROM customer c INNER JOIN invoice i ON c.customer_id = i.customer_id\n",
    "    INNER JOIN invoice_line il ON i.invoice_id = il.invoice_id\n",
    "    WHERE c.country=\"USA\"\n",
    "    )\n",
    "   \n",
    "       \n",
    "SELECT g.name genre_name,\n",
    "       COUNT(ciu.invoice_line_id) tracks_sold_usa,\n",
    "       ROUND((CAST(COUNT(ciu.invoice_line_id) as FLOAT) /(SELECT COUNT(*) from customer_in_usa)*100),2) percentages\n",
    "FROM customer_in_usa ciu INNER JOIN track t ON ciu.track_id = t.track_id\n",
    "INNER JOIN genre g ON t.genre_id = g.genre_id\n",
    "GROUP BY 1\n",
    "ORDER BY 2 DESC;"
   ]
  },
  {
   "cell_type": "markdown",
   "metadata": {},
   "source": [
    "As per table above, Rock represents for more than half of the tracks sold in the USA - so we should focus on artists in this genre"
   ]
  },
  {
   "cell_type": "code",
   "execution_count": 5,
   "metadata": {
    "collapsed": false
   },
   "outputs": [
    {
     "name": "stdout",
     "output_type": "stream",
     "text": [
      "Done.\n"
     ]
    },
    {
     "data": {
      "text/html": [
       "<table>\n",
       "    <tr>\n",
       "        <th>artist_name</th>\n",
       "        <th>albums_sold</th>\n",
       "    </tr>\n",
       "    <tr>\n",
       "        <td>Led Zeppelin</td>\n",
       "        <td>114</td>\n",
       "    </tr>\n",
       "    <tr>\n",
       "        <td>U2</td>\n",
       "        <td>112</td>\n",
       "    </tr>\n",
       "    <tr>\n",
       "        <td>Deep Purple</td>\n",
       "        <td>92</td>\n",
       "    </tr>\n",
       "</table>"
      ],
      "text/plain": [
       "[('Led Zeppelin', 114), ('U2', 112), ('Deep Purple', 92)]"
      ]
     },
     "execution_count": 5,
     "metadata": {},
     "output_type": "execute_result"
    }
   ],
   "source": [
    "%%sql\n",
    "\n",
    "SELECT ar.name artist_name,\n",
    "       COUNT(al.album_id) albums_sold\n",
    "FROM artist ar\n",
    "INNER JOIN album al ON ar.artist_id = al.artist_id\n",
    "INNER JOIN track t ON t.album_id = al.album_id\n",
    "INNER JOIN genre g ON t.genre_id = g.genre_id\n",
    "WHERE g.name = \"Rock\"\n",
    "GROUP BY 1\n",
    "ORDER BY 2 DESC\n",
    "LIMIT 3;"
   ]
  },
  {
   "cell_type": "markdown",
   "metadata": {},
   "source": [
    "As per analysis, the top 3 best sellers Rock bands are:\n",
    "- Led Zeppelin\n",
    "- U2\n",
    "- Deep Purple \n",
    "\n",
    "We should purchase albums from the 3 above bands to insure our return"
   ]
  },
  {
   "cell_type": "markdown",
   "metadata": {},
   "source": [
    "# Analyzing Employee Sales Performance"
   ]
  },
  {
   "cell_type": "markdown",
   "metadata": {},
   "source": [
    "Each customer for the Chinook store gets assigned to a sales support agent within the company when they first make a purchase. You have been asked to analyze the purchases of customers belonging to each employee to see if any sales support agent is performing either better or worse than the others."
   ]
  },
  {
   "cell_type": "code",
   "execution_count": 6,
   "metadata": {
    "collapsed": false
   },
   "outputs": [
    {
     "name": "stdout",
     "output_type": "stream",
     "text": [
      "Done.\n"
     ]
    },
    {
     "data": {
      "text/html": [
       "<table>\n",
       "    <tr>\n",
       "        <th>employee_name</th>\n",
       "        <th>city</th>\n",
       "        <th>hire_date</th>\n",
       "        <th>total_sales</th>\n",
       "    </tr>\n",
       "    <tr>\n",
       "        <td>Jane Peacock</td>\n",
       "        <td>Calgary</td>\n",
       "        <td>2017-04-01 00:00:00</td>\n",
       "        <td>1731.51</td>\n",
       "    </tr>\n",
       "    <tr>\n",
       "        <td>Margaret Park</td>\n",
       "        <td>Calgary</td>\n",
       "        <td>2017-05-03 00:00:00</td>\n",
       "        <td>1584.0</td>\n",
       "    </tr>\n",
       "    <tr>\n",
       "        <td>Steve Johnson</td>\n",
       "        <td>Calgary</td>\n",
       "        <td>2017-10-17 00:00:00</td>\n",
       "        <td>1393.92</td>\n",
       "    </tr>\n",
       "</table>"
      ],
      "text/plain": [
       "[('Jane Peacock', 'Calgary', '2017-04-01 00:00:00', 1731.51),\n",
       " ('Margaret Park', 'Calgary', '2017-05-03 00:00:00', 1584.0),\n",
       " ('Steve Johnson', 'Calgary', '2017-10-17 00:00:00', 1393.92)]"
      ]
     },
     "execution_count": 6,
     "metadata": {},
     "output_type": "execute_result"
    }
   ],
   "source": [
    "%%sql\n",
    "WITH total_sales_employee AS (\n",
    "    SELECT ROUND(SUM(i.total),2) total_sales,\n",
    "           c.support_rep_id \n",
    "    FROM invoice i INNER JOIN customer c ON c.customer_id = i.customer_id\n",
    "    GROUP BY 2\n",
    "    )\n",
    "\n",
    "SELECT  e.first_name || \" \" || e.last_name  employee_name, \n",
    "        e.city,\n",
    "        e.hire_date,\n",
    "        tse.total_sales\n",
    "FROM employee e INNER JOIN total_sales_employee tse ON e.employee_id = tse.support_rep_id\n",
    "WHERE e.title = 'Sales Support Agent';"
   ]
  },
  {
   "cell_type": "markdown",
   "metadata": {},
   "source": [
    "While there is a 20% difference in sales between Jane (the top employee) and Steve (the bottom employee), the difference roughly corresponds with the differences in their hiring dates."
   ]
  },
  {
   "cell_type": "markdown",
   "metadata": {},
   "source": [
    "# Analyzing Sales by Country"
   ]
  },
  {
   "cell_type": "markdown",
   "metadata": {},
   "source": [
    "Your next task is to analyze the sales data for customers from each different country. You have been given guidance to use the country value from the customers table, and ignore the country from the billing address in the invoice table.\n",
    "\n",
    "In particular, you have been directed to calculate data, for each country, on the:\n",
    "\n",
    "- total number of customers\n",
    "- total value of sales\n",
    "- average value of sales per customer\n",
    "- average order value\n",
    "\n",
    "Because there are a number of countries with only one customer, you should group these customers as \"Other\" in your analysis. You can use the following 'trick' to force the ordering of \"Other\" to last in your analysis."
   ]
  },
  {
   "cell_type": "code",
   "execution_count": 7,
   "metadata": {
    "collapsed": false
   },
   "outputs": [
    {
     "name": "stdout",
     "output_type": "stream",
     "text": [
      "Done.\n"
     ]
    },
    {
     "data": {
      "text/html": [
       "<table>\n",
       "    <tr>\n",
       "        <th>country</th>\n",
       "        <th>total_customers</th>\n",
       "        <th>avg_sales_per_customer</th>\n",
       "        <th>avg_order_value</th>\n",
       "    </tr>\n",
       "    <tr>\n",
       "        <td>USA</td>\n",
       "        <td>13</td>\n",
       "        <td>80.04</td>\n",
       "        <td>7.94</td>\n",
       "    </tr>\n",
       "    <tr>\n",
       "        <td>Canada</td>\n",
       "        <td>8</td>\n",
       "        <td>66.95</td>\n",
       "        <td>7.05</td>\n",
       "    </tr>\n",
       "    <tr>\n",
       "        <td>Brazil</td>\n",
       "        <td>5</td>\n",
       "        <td>85.54</td>\n",
       "        <td>7.01</td>\n",
       "    </tr>\n",
       "    <tr>\n",
       "        <td>France</td>\n",
       "        <td>5</td>\n",
       "        <td>77.81</td>\n",
       "        <td>7.78</td>\n",
       "    </tr>\n",
       "    <tr>\n",
       "        <td>Germany</td>\n",
       "        <td>4</td>\n",
       "        <td>83.66</td>\n",
       "        <td>8.16</td>\n",
       "    </tr>\n",
       "    <tr>\n",
       "        <td>United Kingdom</td>\n",
       "        <td>3</td>\n",
       "        <td>81.84</td>\n",
       "        <td>8.77</td>\n",
       "    </tr>\n",
       "    <tr>\n",
       "        <td>Czech Republic</td>\n",
       "        <td>2</td>\n",
       "        <td>136.62</td>\n",
       "        <td>9.11</td>\n",
       "    </tr>\n",
       "    <tr>\n",
       "        <td>India</td>\n",
       "        <td>2</td>\n",
       "        <td>91.58</td>\n",
       "        <td>8.72</td>\n",
       "    </tr>\n",
       "    <tr>\n",
       "        <td>Portugal</td>\n",
       "        <td>2</td>\n",
       "        <td>92.57</td>\n",
       "        <td>6.38</td>\n",
       "    </tr>\n",
       "    <tr>\n",
       "        <td>Other</td>\n",
       "        <td>15</td>\n",
       "        <td>73.0</td>\n",
       "        <td>7.45</td>\n",
       "    </tr>\n",
       "</table>"
      ],
      "text/plain": [
       "[('USA', 13, 80.04, 7.94),\n",
       " ('Canada', 8, 66.95, 7.05),\n",
       " ('Brazil', 5, 85.54, 7.01),\n",
       " ('France', 5, 77.81, 7.78),\n",
       " ('Germany', 4, 83.66, 8.16),\n",
       " ('United Kingdom', 3, 81.84, 8.77),\n",
       " ('Czech Republic', 2, 136.62, 9.11),\n",
       " ('India', 2, 91.58, 8.72),\n",
       " ('Portugal', 2, 92.57, 6.38),\n",
       " ('Other', 15, 73.0, 7.45)]"
      ]
     },
     "execution_count": 7,
     "metadata": {},
     "output_type": "execute_result"
    }
   ],
   "source": [
    "%%sql\n",
    "WITH country_or_other AS (\n",
    "    SELECT \n",
    "        CASE\n",
    "            WHEN \n",
    "            (SELECT count(*) from customer\n",
    "            WHERE country = c.country)= 1 THEN \"Other\"\n",
    "            ELSE c.country\n",
    "        END AS country,\n",
    "        c.customer_id,\n",
    "        il.*\n",
    "    FROM customer c\n",
    "    INNER JOIN invoice i ON c.customer_id = i.customer_id\n",
    "    INNER JOIN invoice_line il ON il.invoice_id = i.invoice_id\n",
    ")\n",
    "\n",
    "SELECT country,\n",
    "       total_customers,\n",
    "       avg_sales_per_customer,\n",
    "       avg_order_value\n",
    "FROM(\n",
    "SELECT\n",
    "    country,\n",
    "    CASE\n",
    "        WHEN country = \"Other\" THEN 1\n",
    "        ELSE 0\n",
    "    END as sort,\n",
    "    count(distinct customer_id) total_customers,\n",
    "    SUM(unit_price) total_sales,\n",
    "    ROUND(SUM(unit_price) / count(distinct customer_id),2) avg_sales_per_customer,\n",
    "    ROUND(SUM(unit_price) / count(distinct invoice_id),2) avg_order_value\n",
    "FROM country_or_other\n",
    "GROUP BY 1\n",
    "ORDER BY 2, 3 DESC);"
   ]
  },
  {
   "cell_type": "markdown",
   "metadata": {
    "collapsed": true
   },
   "source": [
    "Based on our analysis, our store has gained popularity in USA and surprisingly, people Czech Republic spends more on average. However, we shouldn't use the numbers in Czech since there are only 2 customers, it may be not accurate if we have more. We need more data for deeper analysis"
   ]
  },
  {
   "cell_type": "markdown",
   "metadata": {},
   "source": [
    "# Album vs Individual Tracks"
   ]
  },
  {
   "cell_type": "code",
   "execution_count": 8,
   "metadata": {
    "collapsed": false
   },
   "outputs": [
    {
     "name": "stdout",
     "output_type": "stream",
     "text": [
      "Done.\n"
     ]
    },
    {
     "data": {
      "text/html": [
       "<table>\n",
       "    <tr>\n",
       "        <th>album_purchase</th>\n",
       "        <th>total_invoices</th>\n",
       "        <th>percent</th>\n",
       "    </tr>\n",
       "    <tr>\n",
       "        <td>No</td>\n",
       "        <td>500</td>\n",
       "        <td>0.8143322475570033</td>\n",
       "    </tr>\n",
       "    <tr>\n",
       "        <td>Yes</td>\n",
       "        <td>114</td>\n",
       "        <td>0.18566775244299674</td>\n",
       "    </tr>\n",
       "</table>"
      ],
      "text/plain": [
       "[('No', 500, 0.8143322475570033), ('Yes', 114, 0.18566775244299674)]"
      ]
     },
     "execution_count": 8,
     "metadata": {},
     "output_type": "execute_result"
    }
   ],
   "source": [
    "%%sql\n",
    "WITH invoice_first_track AS (\n",
    "    SELECT invoice_id,\n",
    "           MIN(track_id) first_track\n",
    "    FROM invoice_line\n",
    "    GROUP BY 1\n",
    "    )\n",
    "\n",
    "SELECT\n",
    "    album_purchase,\n",
    "    count(invoice_id) total_invoices,\n",
    "    cast(count(invoice_id) as FLOAT) / (SELECT COUNT(*) FROM invoice) percent\n",
    "FROM\n",
    "(SELECT \n",
    "    ift.*,\n",
    "    CASE\n",
    "        WHEN \n",
    "        (SELECT t.track_id\n",
    "         FROM track t\n",
    "         WHERE t.album_id = (SELECT t1.album_id FROM track t1\n",
    "                            WHERE t1.track_id = ift.first_track)\n",
    "         \n",
    "         EXCEPT\n",
    "         \n",
    "         SELECT il1.track_id\n",
    "         FROM invoice_line il1\n",
    "         WHERE il1.invoice_id = ift.invoice_id\n",
    "        ) IS NULL\n",
    "        \n",
    "        AND\n",
    "        \n",
    "        (SELECT il1.track_id FROM invoice_line il1\n",
    "        WHERE il1.invoice_id = ift.invoice_id\n",
    "        \n",
    "        EXCEPT\n",
    "        \n",
    "        SELECT t.track_id FROM track t\n",
    "        WHERE t.album_id = (SELECT t1.album_id FROM track t1\n",
    "                           WHERE t1.track_id = ift.first_track) \n",
    "        ) IS NULL\n",
    "        \n",
    "            THEN \"Yes\"\n",
    "            ELSE \"No\"\n",
    "        END AS album_purchase\n",
    "        FROM invoice_first_track ift\n",
    "        )\n",
    "GROUP BY 1;"
   ]
  },
  {
   "cell_type": "markdown",
   "metadata": {},
   "source": [
    "Album purchases account for 18.6% of purchases. Based on this data, I would recommend against purchasing only select tracks from albums from record companies, since there is potential to lose one fifth of revenue."
   ]
  },
  {
   "cell_type": "code",
   "execution_count": null,
   "metadata": {
    "collapsed": true
   },
   "outputs": [],
   "source": []
  }
 ],
 "metadata": {
  "kernelspec": {
   "display_name": "Python 3",
   "language": "python",
   "name": "python3"
  },
  "language_info": {
   "codemirror_mode": {
    "name": "ipython",
    "version": 3
   },
   "file_extension": ".py",
   "mimetype": "text/x-python",
   "name": "python",
   "nbconvert_exporter": "python",
   "pygments_lexer": "ipython3",
   "version": "3.4.3"
  }
 },
 "nbformat": 4,
 "nbformat_minor": 4
}
